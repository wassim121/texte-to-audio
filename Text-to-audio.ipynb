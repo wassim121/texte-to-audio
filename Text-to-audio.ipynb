{
 "cells": [
  {
   "cell_type": "markdown",
   "metadata": {},
   "source": [
    "**pyttsx3** est une bibliothèque de conversion texte-parole en Python. Contrairement aux bibliothèques alternatives, il fonctionne hors ligne et est compatible avec Python 2 et 3."
   ]
  },
  {
   "cell_type": "code",
   "execution_count": 7,
   "metadata": {},
   "outputs": [
    {
     "name": "stdout",
     "output_type": "stream",
     "text": [
      "Requirement already satisfied: pyttsx3 in c:\\programdata\\anaconda3\\lib\\site-packages (2.90)\n",
      "Requirement already satisfied: pypiwin32; platform_system == \"Windows\" in c:\\programdata\\anaconda3\\lib\\site-packages (from pyttsx3) (223)\n",
      "Requirement already satisfied: comtypes; platform_system == \"Windows\" in c:\\programdata\\anaconda3\\lib\\site-packages (from pyttsx3) (1.1.7)\n",
      "Requirement already satisfied: pywin32; platform_system == \"Windows\" in c:\\programdata\\anaconda3\\lib\\site-packages (from pyttsx3) (223)\n",
      "Note: you may need to restart the kernel to use updated packages.\n"
     ]
    }
   ],
   "source": [
    "pip install pyttsx3"
   ]
  },
  {
   "cell_type": "code",
   "execution_count": 8,
   "metadata": {},
   "outputs": [],
   "source": [
    "import pyttsx3\n",
    "engine = pyttsx3.init()"
   ]
  },
  {
   "cell_type": "code",
   "execution_count": 9,
   "metadata": {},
   "outputs": [],
   "source": [
    "engine.say(\"Ce projet a pour but de lire les fichiers audio générés à partir des commentaires d'utilisateurs stockés dans une base de données. Lorsqu'un utilisateur sélectionne un commentaire, une synthèse vocale est utilisée pour générer un fichier audio .\")"
   ]
  },
  {
   "cell_type": "code",
   "execution_count": 10,
   "metadata": {},
   "outputs": [],
   "source": [
    "engine.runAndWait()"
   ]
  },
  {
   "cell_type": "code",
   "execution_count": 11,
   "metadata": {},
   "outputs": [
    {
     "name": "stdout",
     "output_type": "stream",
     "text": [
      "200\n"
     ]
    }
   ],
   "source": [
    "\"\"\" RATE\"\"\"\n",
    "rate = engine.getProperty('rate')    \n",
    "print (rate)                         "
   ]
  },
  {
   "cell_type": "code",
   "execution_count": 12,
   "metadata": {},
   "outputs": [],
   "source": [
    "engine.setProperty('rate', 125)      \n",
    "\n",
    "engine.say(\"Ce projet a pour but de lire les fichiers audio générés à partir des commentaires d'utilisateurs stockés dans une base de données. Lorsqu'un utilisateur sélectionne un commentaire, une synthèse vocale est utilisée pour générer un fichier audio .\")\n",
    "engine.runAndWait()"
   ]
  },
  {
   "cell_type": "code",
   "execution_count": 13,
   "metadata": {},
   "outputs": [
    {
     "name": "stdout",
     "output_type": "stream",
     "text": [
      "125\n"
     ]
    }
   ],
   "source": [
    "rate = engine.getProperty('rate')    \n",
    "print (rate)                         "
   ]
  },
  {
   "cell_type": "code",
   "execution_count": 14,
   "metadata": {},
   "outputs": [
    {
     "name": "stdout",
     "output_type": "stream",
     "text": [
      "1.0\n"
     ]
    }
   ],
   "source": [
    "\"\"\"VOLUME\"\"\"\n",
    "volume = engine.getProperty('volume') \n",
    "print (volume)                     "
   ]
  },
  {
   "cell_type": "code",
   "execution_count": 15,
   "metadata": {},
   "outputs": [],
   "source": [
    "engine.setProperty('volume',1)     "
   ]
  },
  {
   "cell_type": "code",
   "execution_count": 16,
   "metadata": {},
   "outputs": [],
   "source": [
    "engine.say(\"Ce projet a pour but de lire les fichiers audio générés à partir des commentaires d'utilisateurs stockés dans une base de données. Lorsqu'un utilisateur sélectionne un commentaire, une synthèse vocale est utilisée pour générer un fichier audio .\")\n",
    "engine.runAndWait()"
   ]
  },
  {
   "cell_type": "code",
   "execution_count": 17,
   "metadata": {},
   "outputs": [],
   "source": [
    "engine.setProperty('rate', 200)"
   ]
  },
  {
   "cell_type": "code",
   "execution_count": 18,
   "metadata": {},
   "outputs": [],
   "source": [
    "engine.say(\"Ce projet a pour but de lire les fichiers audio générés à partir des commentaires d'utilisateurs stockés dans une base de données. Lorsqu'un utilisateur sélectionne un commentaire, une synthèse vocale est utilisée pour générer un fichier audio .\")\n",
    "\n",
    "engine.runAndWait()\n",
    "engine.stop()"
   ]
  },
  {
   "cell_type": "code",
   "execution_count": 24,
   "metadata": {},
   "outputs": [],
   "source": [
    "engine.save_to_file(\"Ce projet a pour but de lire les fichiers audio générés à partir des commentaires d'utilisateurs stockés dans une base de données. Lorsqu'un utilisateur sélectionne un commentaire, une synthèse vocale est utilisée pour générer un fichier audio .\", \n",
    "                    'Localisation/Text-to-speech.mp3')\n",
    "engine.runAndWait()\n"
   ]
  },
  {
   "cell_type": "code",
   "execution_count": null,
   "metadata": {},
   "outputs": [],
   "source": []
  }
 ],
 "metadata": {
  "kernelspec": {
   "display_name": "Python 3",
   "language": "python",
   "name": "python3"
  },
  "language_info": {
   "codemirror_mode": {
    "name": "ipython",
    "version": 3
   },
   "file_extension": ".py",
   "mimetype": "text/x-python",
   "name": "python",
   "nbconvert_exporter": "python",
   "pygments_lexer": "ipython3",
   "version": "3.7.4"
  }
 },
 "nbformat": 4,
 "nbformat_minor": 5
}
